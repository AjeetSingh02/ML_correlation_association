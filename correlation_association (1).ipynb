{
 "cells": [
  {
   "cell_type": "markdown",
   "metadata": {},
   "source": [
    "<html>\n",
    "    <body> \n",
    "        <h1>Correlation</h1>\n",
    "        <h4>what is Correlation </h4>\n",
    "        <p>The term \"correlation\" refers to a mutual relationship or association between quantities. In almost any business, it is useful to express one quantity in terms of its relationship with others. </p>\n",
    "        <p>For example, sales might increase when the marketing department spends more on TV advertisements, or a customer's average purchase amount on an e-commerce website might depend on a number of factors related to that customer.</p>  \n",
    "        <p>Often, correlation is the first step in understanding these relationships and subsequently building better business and statistical models.</p>\n",
    "             \n",
    "        <h4>why is correlation useful? </h4>\n",
    "        <ol>\n",
    "            <li>Correlation can help in predicting one quantity from another</li>\n",
    "            <li>Correlation can often indicate the presence of a causal relationship between two fields.</li>\n",
    "            <li>It is important to understand possible correlations in your data, especially when building a regression model. Strongly correlated predictors, phenomenon referred to as multicollinearity, will cause coefficient estimates to be less reliable.</li>\n",
    "        </ol>\n",
    "<p></p>\n",
    "<p>More formally, correlation is a statistical measure that describes the association between random variables. \n",
    "It is a measure of relationship between variables that is measured on a -1 to 1 scale. The closer the correlation value is to -1 or 1 the stronger the relationship, the closer to 0, the weaker the relationship. It measures how change in one variable is associated with change in another variable.\n",
    "</p>\n",
    "    </body>\n",
    "</html>"
   ]
  },
  {
   "cell_type": "markdown",
   "metadata": {},
   "source": [
    "<html>\n",
    "    <body>\n",
    "        <h1> Types of Correlation </h1>\n",
    "        <ul>\n",
    "            <li>On the basis of Correlation value\n",
    "                <ol>\n",
    "                    <li><strong>Positive Correlation:</strong> both variables change in the same direction.</li>\n",
    "                    <li><strong>Neutral Correlation:</strong> No relationship in the change of the variables.</li>\n",
    "                    <li><strong>Negative Correlation:</strong> variables change in opposite directions.</li>\n",
    "                </ol>\n",
    "            </li>\n",
    "            <br>\n",
    "            <li>On the basis of fields in comparison\n",
    "                <ol>\n",
    "                    <li><strong>continuous-continuous:</strong>when the fields are continuous.</li>\n",
    "                    <li><strong>categorical-categorical:</strong>when the fields are categorical.</li>\n",
    "                    <li><strong>categorical-continuous:</strong>when one or more fields are categorical and continuous.</li>      \n",
    "                </ol>\n",
    "            </li>               \n",
    "        </ul>\n",
    "    </body>\n",
    "</html>"
   ]
  },
  {
   "cell_type": "markdown",
   "metadata": {},
   "source": [
    "<html> \n",
    "    <body>\n",
    "        <h1> Correlation analysis when all the fields are continuous </h1>\n",
    "        <p> For such a data set, there are three famous methods: </p>\n",
    "        <ol>\n",
    "            <li>Pearson Correlation Coefficient</li>\n",
    "            <li>Spearman's Correlation</li>\n",
    "            <li>Kendall's Tau</li>      \n",
    "         </ol>\n",
    "    </body>\n",
    "</html>"
   ]
  },
  {
   "cell_type": "markdown",
   "metadata": {},
   "source": [
    "<html> \n",
    "    <body>\n",
    "        <h3> Pearson Correlation Coefficient </h3>\n",
    "        <p>The Pearson correlation coefficient (named for Karl Pearson) can be used to summarize the strength of the linear relationship between two data samples.</p>\n",
    "        <p>The Pearson’s correlation coefficient is calculated as the covariance of the two variables divided by the product of the standard deviation of each data sample. It is the normalization of the covariance between the two variables to give an interpretable score.</p>\n",
    "        <p><i>Pearson's correlation coefficient = covariance(X, Y) / (stdv(X) * stdv(Y))</i></p>\n",
    "        <p>The use of mean and standard deviation in the calculation suggests the need for the two data samples to have a Gaussian or Gaussian-like distribution.</p>\n",
    "        \n",
    "        <h3>Spearman’s Correlation</h3>\n",
    "        <p>Two variables may be related by a nonlinear relationship, such that the relationship is stronger or weaker across the distribution of the variables.</p>\n",
    "        <p>Further, the two variables being considered may have a non-Gaussian distribution.</p>\n",
    "        <p>In this case, the Spearman’s correlation coefficient (named for Charles Spearman) can be used to summarize the strength between the two data samples. This test of relationship can also be used if there is a linear relationship between the variables, but will have slightly less power (e.g. may result in lower coefficient scores).</p>\n",
    "        <p><i>Spearman's correlation coefficient = covariance(rank(X), rank(Y)) / (stdv(rank(X)) * stdv(rank(Y)))</i></p>\n",
    "        <p>Spearman's correlation measures monotonic association (only strictly decreasing or increasing) between two variables and relies on rank order of values. It looks at the relative order of values for each variable. This makes it appropriate to use with both coninuous and discrete data.</p>\n",
    "        \n",
    "        \n",
    "        <h3>Kendall's τ</h3>\n",
    "        <p>Kendall's τ is also based on variable ranks. However, unlike Spearman's coefficient, Kendalls' τ does not take into account the difference between ranks — only directional agreement. Therefore, this coefficient is more appropriate for discrete data.</p\n",
    "        <p>Formally, Kendall's τ coefficient is defined as:</p>\n",
    "        <p><i>τ = ((no of concordant pairs - number of discordant pairs) / (N(N-1)/2))</i></p>\n",
    "        <i><small>N - Number of possible combination of pairs</small></i>\n",
    "        <p>As an example to calculate concordant and discordant pairs let us take this simple dataset:<p>\n",
    "        <table style=\"border:1px solid black\">\n",
    "            <tr>\n",
    "                <th>X</th>\n",
    "                <th>Y</th>\n",
    "            </tr>\n",
    "            <tr>\n",
    "                <th>1</th>\n",
    "                <th>7</th>\n",
    "            </tr>\n",
    "            <tr>\n",
    "                <th>2</th>\n",
    "                <th>5</th>\n",
    "            </tr>\n",
    "            <tr>\n",
    "                <th>3</th>\n",
    "                <th>1</th>\n",
    "            </tr>\n",
    "            <tr>\n",
    "                <th>4</th>\n",
    "                <th>6</th>\n",
    "            </tr>\n",
    "            <tr>\n",
    "                <th>5</th>\n",
    "                <th>9</th>\n",
    "            </tr>\n",
    "        </table>\n",
    "        \n",
    "        <p>concordant pair: <i>X<sub>1</sub> < X<sub>2</sub></i> AND <i>Y<sub>1</sub> < Y<sub>2</sub></i> \n",
    "        <strong>OR</strong> <i>X<sub>1</sub> > X<sub>2</sub></i> AND <i>Y<sub>1</sub> > Y<sub>2</sub></i></p> \n",
    "        \n",
    "        <p>non concordant pair : combinations other than concordant pairs.\n",
    "        <p>examples from above dataset</p>\n",
    "        <p> concordant : (4,6) & (5,9)</p>\n",
    "        <p> non concordant : (1,7) & (2,5)</p>\n",
    "         \n",
    "    </body>\n",
    "</html>"
   ]
  },
  {
   "cell_type": "markdown",
   "metadata": {},
   "source": [
    "<head>\n",
    "    <head>\n",
    "        <h3>Python implementation of correlation</h3>\n",
    "        <p>We will be using a dataset on vehicle fuel efficiency from <i>University of California, Irvine.</i> Let's say it is of interest to see what vehicle characteristics can help explain fuel consumption (mpg) of a vehicle. We begin by reading the dataset from the UCI online data repository and examining first few rows. Dataset documentation states that a special character is used for missing values (?), which can be used as one of the parameters to pandas read_csv() function</p>\n",
    "    </head>\n",
    "</head>"
   ]
  },
  {
   "cell_type": "code",
   "execution_count": 5,
   "metadata": {},
   "outputs": [],
   "source": [
    "import pandas as pd\n",
    "path = 'http://archive.ics.uci.edu/ml/machine-learning-databases/auto-mpg/auto-mpg.data'\n",
    "\n",
    "mpg_data = pd.read_csv(path, delim_whitespace=True, header=None,\n",
    "            names = ['mpg', 'cylinders', 'displacement','horsepower',\n",
    "            'weight', 'acceleration', 'model_year', 'origin', 'name'],\n",
    "            na_values='?')\n"
   ]
  },
  {
   "cell_type": "code",
   "execution_count": 9,
   "metadata": {},
   "outputs": [
    {
     "name": "stdout",
     "output_type": "stream",
     "text": [
      "<class 'pandas.core.frame.DataFrame'>\n",
      "RangeIndex: 398 entries, 0 to 397\n",
      "Data columns (total 9 columns):\n",
      "mpg             398 non-null float64\n",
      "cylinders       398 non-null int64\n",
      "displacement    398 non-null float64\n",
      "horsepower      392 non-null float64\n",
      "weight          398 non-null float64\n",
      "acceleration    398 non-null float64\n",
      "model_year      398 non-null int64\n",
      "origin          398 non-null int64\n",
      "name            398 non-null object\n",
      "dtypes: float64(5), int64(3), object(1)\n",
      "memory usage: 28.1+ KB\n"
     ]
    }
   ],
   "source": [
    "mpg_data.info()\n",
    "#this info() method will show the information about the data. It is always adviced to get a gist of your data before \n",
    "#proceeding further"
   ]
  },
  {
   "cell_type": "markdown",
   "metadata": {},
   "source": [
    "<p>\n",
    "    <strong>Note: </strong>horsepower has six missing values, which pandas' correlation method will automatically drop. \n",
    "    Since the number of missing values is small, this setting is acceptable for our illustrative example. \n",
    "    However, always make sure that dropping missing values is appropriate for your use case. If that is not the case, \n",
    "    there are many existing methods for filling in and handling missing values, such as simple mean imputation.\n",
    "</p>"
   ]
  },
  {
   "cell_type": "markdown",
   "metadata": {},
   "source": [
    "<p>Pandas provides a convenient one-line method corr() for calculating correlation between data frame columns. \n",
    "In our fuel efficiency example, we can check whether heavier vehicles tend to have lower mpg by passing the method to \n",
    "specific columns</p>"
   ]
  },
  {
   "cell_type": "code",
   "execution_count": 10,
   "metadata": {},
   "outputs": [
    {
     "data": {
      "text/plain": [
       "-0.8317409332443352"
      ]
     },
     "execution_count": 10,
     "metadata": {},
     "output_type": "execute_result"
    }
   ],
   "source": [
    "mpg_data['mpg'].corr(mpg_data['weight'])\n",
    "#here we are determining the correlation of 'mpg' column with 'weight' column"
   ]
  },
  {
   "cell_type": "markdown",
   "metadata": {},
   "source": [
    "<p>The output of above code is highly negative. It shows that there is negative correlation between weight and mpg.</p>"
   ]
  },
  {
   "cell_type": "markdown",
   "metadata": {},
   "source": [
    "<p> Pandas can quickly calculate correlation between all columns in a dataframe. \n",
    "we can also specify the correlation method: Spearman, Pearson, or Kendall. \n",
    "If no method is specified, Pearson is used by default. \n",
    "Here, we drop model year and origin variables since they are not continuous.</p>\n",
    "<p>Following is the one line code for the same </p>"
   ]
  },
  {
   "cell_type": "code",
   "execution_count": 11,
   "metadata": {},
   "outputs": [
    {
     "data": {
      "text/html": [
       "<div>\n",
       "<style scoped>\n",
       "    .dataframe tbody tr th:only-of-type {\n",
       "        vertical-align: middle;\n",
       "    }\n",
       "\n",
       "    .dataframe tbody tr th {\n",
       "        vertical-align: top;\n",
       "    }\n",
       "\n",
       "    .dataframe thead th {\n",
       "        text-align: right;\n",
       "    }\n",
       "</style>\n",
       "<table border=\"1\" class=\"dataframe\">\n",
       "  <thead>\n",
       "    <tr style=\"text-align: right;\">\n",
       "      <th></th>\n",
       "      <th>mpg</th>\n",
       "      <th>cylinders</th>\n",
       "      <th>displacement</th>\n",
       "      <th>horsepower</th>\n",
       "      <th>weight</th>\n",
       "      <th>acceleration</th>\n",
       "    </tr>\n",
       "  </thead>\n",
       "  <tbody>\n",
       "    <tr>\n",
       "      <th>mpg</th>\n",
       "      <td>1.000000</td>\n",
       "      <td>-0.821864</td>\n",
       "      <td>-0.855692</td>\n",
       "      <td>-0.853616</td>\n",
       "      <td>-0.874947</td>\n",
       "      <td>0.438677</td>\n",
       "    </tr>\n",
       "    <tr>\n",
       "      <th>cylinders</th>\n",
       "      <td>-0.821864</td>\n",
       "      <td>1.000000</td>\n",
       "      <td>0.911876</td>\n",
       "      <td>0.816188</td>\n",
       "      <td>0.873314</td>\n",
       "      <td>-0.474189</td>\n",
       "    </tr>\n",
       "    <tr>\n",
       "      <th>displacement</th>\n",
       "      <td>-0.855692</td>\n",
       "      <td>0.911876</td>\n",
       "      <td>1.000000</td>\n",
       "      <td>0.876171</td>\n",
       "      <td>0.945986</td>\n",
       "      <td>-0.496512</td>\n",
       "    </tr>\n",
       "    <tr>\n",
       "      <th>horsepower</th>\n",
       "      <td>-0.853616</td>\n",
       "      <td>0.816188</td>\n",
       "      <td>0.876171</td>\n",
       "      <td>1.000000</td>\n",
       "      <td>0.878819</td>\n",
       "      <td>-0.658142</td>\n",
       "    </tr>\n",
       "    <tr>\n",
       "      <th>weight</th>\n",
       "      <td>-0.874947</td>\n",
       "      <td>0.873314</td>\n",
       "      <td>0.945986</td>\n",
       "      <td>0.878819</td>\n",
       "      <td>1.000000</td>\n",
       "      <td>-0.404550</td>\n",
       "    </tr>\n",
       "    <tr>\n",
       "      <th>acceleration</th>\n",
       "      <td>0.438677</td>\n",
       "      <td>-0.474189</td>\n",
       "      <td>-0.496512</td>\n",
       "      <td>-0.658142</td>\n",
       "      <td>-0.404550</td>\n",
       "      <td>1.000000</td>\n",
       "    </tr>\n",
       "  </tbody>\n",
       "</table>\n",
       "</div>"
      ],
      "text/plain": [
       "                   mpg  cylinders  displacement  horsepower    weight  \\\n",
       "mpg           1.000000  -0.821864     -0.855692   -0.853616 -0.874947   \n",
       "cylinders    -0.821864   1.000000      0.911876    0.816188  0.873314   \n",
       "displacement -0.855692   0.911876      1.000000    0.876171  0.945986   \n",
       "horsepower   -0.853616   0.816188      0.876171    1.000000  0.878819   \n",
       "weight       -0.874947   0.873314      0.945986    0.878819  1.000000   \n",
       "acceleration  0.438677  -0.474189     -0.496512   -0.658142 -0.404550   \n",
       "\n",
       "              acceleration  \n",
       "mpg               0.438677  \n",
       "cylinders        -0.474189  \n",
       "displacement     -0.496512  \n",
       "horsepower       -0.658142  \n",
       "weight           -0.404550  \n",
       "acceleration      1.000000  "
      ]
     },
     "execution_count": 11,
     "metadata": {},
     "output_type": "execute_result"
    }
   ],
   "source": [
    "mpg_data.drop(['model_year', 'origin'], axis=1).corr(method='spearman')"
   ]
  },
  {
   "cell_type": "markdown",
   "metadata": {},
   "source": [
    "<p> Here we can see the correlation among all the fields in the dataset. To make it more readable and give better insights we can use highlighting methods as shown below on the same dataset with pearson method.</p>"
   ]
  },
  {
   "cell_type": "code",
   "execution_count": 16,
   "metadata": {},
   "outputs": [
    {
     "data": {
      "text/html": [
       "<style  type=\"text/css\" >\n",
       "    #T_aa6abea6_3367_11e9_ba5b_0a1275185e2erow0_col0 {\n",
       "            background-color:  #b40426;\n",
       "        }    #T_aa6abea6_3367_11e9_ba5b_0a1275185e2erow0_col1 {\n",
       "            background-color:  #4358cb;\n",
       "        }    #T_aa6abea6_3367_11e9_ba5b_0a1275185e2erow0_col2 {\n",
       "            background-color:  #3e51c5;\n",
       "        }    #T_aa6abea6_3367_11e9_ba5b_0a1275185e2erow0_col3 {\n",
       "            background-color:  #4358cb;\n",
       "        }    #T_aa6abea6_3367_11e9_ba5b_0a1275185e2erow0_col4 {\n",
       "            background-color:  #3b4cc0;\n",
       "        }    #T_aa6abea6_3367_11e9_ba5b_0a1275185e2erow0_col5 {\n",
       "            background-color:  #f7b396;\n",
       "        }    #T_aa6abea6_3367_11e9_ba5b_0a1275185e2erow1_col0 {\n",
       "            background-color:  #3b4cc0;\n",
       "        }    #T_aa6abea6_3367_11e9_ba5b_0a1275185e2erow1_col1 {\n",
       "            background-color:  #b40426;\n",
       "        }    #T_aa6abea6_3367_11e9_ba5b_0a1275185e2erow1_col2 {\n",
       "            background-color:  #be242e;\n",
       "        }    #T_aa6abea6_3367_11e9_ba5b_0a1275185e2erow1_col3 {\n",
       "            background-color:  #d24b40;\n",
       "        }    #T_aa6abea6_3367_11e9_ba5b_0a1275185e2erow1_col4 {\n",
       "            background-color:  #c83836;\n",
       "        }    #T_aa6abea6_3367_11e9_ba5b_0a1275185e2erow1_col5 {\n",
       "            background-color:  #6a8bef;\n",
       "        }    #T_aa6abea6_3367_11e9_ba5b_0a1275185e2erow2_col0 {\n",
       "            background-color:  #3b4cc0;\n",
       "        }    #T_aa6abea6_3367_11e9_ba5b_0a1275185e2erow2_col1 {\n",
       "            background-color:  #bd1f2d;\n",
       "        }    #T_aa6abea6_3367_11e9_ba5b_0a1275185e2erow2_col2 {\n",
       "            background-color:  #b40426;\n",
       "        }    #T_aa6abea6_3367_11e9_ba5b_0a1275185e2erow2_col3 {\n",
       "            background-color:  #c83836;\n",
       "        }    #T_aa6abea6_3367_11e9_ba5b_0a1275185e2erow2_col4 {\n",
       "            background-color:  #c12b30;\n",
       "        }    #T_aa6abea6_3367_11e9_ba5b_0a1275185e2erow2_col5 {\n",
       "            background-color:  #6788ee;\n",
       "        }    #T_aa6abea6_3367_11e9_ba5b_0a1275185e2erow3_col0 {\n",
       "            background-color:  #3b4cc0;\n",
       "        }    #T_aa6abea6_3367_11e9_ba5b_0a1275185e2erow3_col1 {\n",
       "            background-color:  #d24b40;\n",
       "        }    #T_aa6abea6_3367_11e9_ba5b_0a1275185e2erow3_col2 {\n",
       "            background-color:  #c83836;\n",
       "        }    #T_aa6abea6_3367_11e9_ba5b_0a1275185e2erow3_col3 {\n",
       "            background-color:  #b40426;\n",
       "        }    #T_aa6abea6_3367_11e9_ba5b_0a1275185e2erow3_col4 {\n",
       "            background-color:  #cf453c;\n",
       "        }    #T_aa6abea6_3367_11e9_ba5b_0a1275185e2erow3_col5 {\n",
       "            background-color:  #4961d2;\n",
       "        }    #T_aa6abea6_3367_11e9_ba5b_0a1275185e2erow4_col0 {\n",
       "            background-color:  #3b4cc0;\n",
       "        }    #T_aa6abea6_3367_11e9_ba5b_0a1275185e2erow4_col1 {\n",
       "            background-color:  #c83836;\n",
       "        }    #T_aa6abea6_3367_11e9_ba5b_0a1275185e2erow4_col2 {\n",
       "            background-color:  #c12b30;\n",
       "        }    #T_aa6abea6_3367_11e9_ba5b_0a1275185e2erow4_col3 {\n",
       "            background-color:  #cd423b;\n",
       "        }    #T_aa6abea6_3367_11e9_ba5b_0a1275185e2erow4_col4 {\n",
       "            background-color:  #b40426;\n",
       "        }    #T_aa6abea6_3367_11e9_ba5b_0a1275185e2erow4_col5 {\n",
       "            background-color:  #84a7fc;\n",
       "        }    #T_aa6abea6_3367_11e9_ba5b_0a1275185e2erow5_col0 {\n",
       "            background-color:  #f7ba9f;\n",
       "        }    #T_aa6abea6_3367_11e9_ba5b_0a1275185e2erow5_col1 {\n",
       "            background-color:  #5b7ae5;\n",
       "        }    #T_aa6abea6_3367_11e9_ba5b_0a1275185e2erow5_col2 {\n",
       "            background-color:  #5572df;\n",
       "        }    #T_aa6abea6_3367_11e9_ba5b_0a1275185e2erow5_col3 {\n",
       "            background-color:  #3b4cc0;\n",
       "        }    #T_aa6abea6_3367_11e9_ba5b_0a1275185e2erow5_col4 {\n",
       "            background-color:  #6e90f2;\n",
       "        }    #T_aa6abea6_3367_11e9_ba5b_0a1275185e2erow5_col5 {\n",
       "            background-color:  #b40426;\n",
       "        }</style>  \n",
       "<table id=\"T_aa6abea6_3367_11e9_ba5b_0a1275185e2e\" > \n",
       "<thead>    <tr> \n",
       "        <th class=\"blank level0\" ></th> \n",
       "        <th class=\"col_heading level0 col0\" >mpg</th> \n",
       "        <th class=\"col_heading level0 col1\" >cylinders</th> \n",
       "        <th class=\"col_heading level0 col2\" >displacement</th> \n",
       "        <th class=\"col_heading level0 col3\" >horsepower</th> \n",
       "        <th class=\"col_heading level0 col4\" >weight</th> \n",
       "        <th class=\"col_heading level0 col5\" >acceleration</th> \n",
       "    </tr></thead> \n",
       "<tbody>    <tr> \n",
       "        <th id=\"T_aa6abea6_3367_11e9_ba5b_0a1275185e2elevel0_row0\" class=\"row_heading level0 row0\" >mpg</th> \n",
       "        <td id=\"T_aa6abea6_3367_11e9_ba5b_0a1275185e2erow0_col0\" class=\"data row0 col0\" >1.0</td> \n",
       "        <td id=\"T_aa6abea6_3367_11e9_ba5b_0a1275185e2erow0_col1\" class=\"data row0 col1\" >-0.78</td> \n",
       "        <td id=\"T_aa6abea6_3367_11e9_ba5b_0a1275185e2erow0_col2\" class=\"data row0 col2\" >-0.8</td> \n",
       "        <td id=\"T_aa6abea6_3367_11e9_ba5b_0a1275185e2erow0_col3\" class=\"data row0 col3\" >-0.78</td> \n",
       "        <td id=\"T_aa6abea6_3367_11e9_ba5b_0a1275185e2erow0_col4\" class=\"data row0 col4\" >-0.83</td> \n",
       "        <td id=\"T_aa6abea6_3367_11e9_ba5b_0a1275185e2erow0_col5\" class=\"data row0 col5\" >0.42</td> \n",
       "    </tr>    <tr> \n",
       "        <th id=\"T_aa6abea6_3367_11e9_ba5b_0a1275185e2elevel0_row1\" class=\"row_heading level0 row1\" >cylinders</th> \n",
       "        <td id=\"T_aa6abea6_3367_11e9_ba5b_0a1275185e2erow1_col0\" class=\"data row1 col0\" >-0.78</td> \n",
       "        <td id=\"T_aa6abea6_3367_11e9_ba5b_0a1275185e2erow1_col1\" class=\"data row1 col1\" >1.0</td> \n",
       "        <td id=\"T_aa6abea6_3367_11e9_ba5b_0a1275185e2erow1_col2\" class=\"data row1 col2\" >0.95</td> \n",
       "        <td id=\"T_aa6abea6_3367_11e9_ba5b_0a1275185e2erow1_col3\" class=\"data row1 col3\" >0.84</td> \n",
       "        <td id=\"T_aa6abea6_3367_11e9_ba5b_0a1275185e2erow1_col4\" class=\"data row1 col4\" >0.9</td> \n",
       "        <td id=\"T_aa6abea6_3367_11e9_ba5b_0a1275185e2erow1_col5\" class=\"data row1 col5\" >-0.51</td> \n",
       "    </tr>    <tr> \n",
       "        <th id=\"T_aa6abea6_3367_11e9_ba5b_0a1275185e2elevel0_row2\" class=\"row_heading level0 row2\" >displacement</th> \n",
       "        <td id=\"T_aa6abea6_3367_11e9_ba5b_0a1275185e2erow2_col0\" class=\"data row2 col0\" >-0.8</td> \n",
       "        <td id=\"T_aa6abea6_3367_11e9_ba5b_0a1275185e2erow2_col1\" class=\"data row2 col1\" >0.95</td> \n",
       "        <td id=\"T_aa6abea6_3367_11e9_ba5b_0a1275185e2erow2_col2\" class=\"data row2 col2\" >1.0</td> \n",
       "        <td id=\"T_aa6abea6_3367_11e9_ba5b_0a1275185e2erow2_col3\" class=\"data row2 col3\" >0.9</td> \n",
       "        <td id=\"T_aa6abea6_3367_11e9_ba5b_0a1275185e2erow2_col4\" class=\"data row2 col4\" >0.93</td> \n",
       "        <td id=\"T_aa6abea6_3367_11e9_ba5b_0a1275185e2erow2_col5\" class=\"data row2 col5\" >-0.54</td> \n",
       "    </tr>    <tr> \n",
       "        <th id=\"T_aa6abea6_3367_11e9_ba5b_0a1275185e2elevel0_row3\" class=\"row_heading level0 row3\" >horsepower</th> \n",
       "        <td id=\"T_aa6abea6_3367_11e9_ba5b_0a1275185e2erow3_col0\" class=\"data row3 col0\" >-0.78</td> \n",
       "        <td id=\"T_aa6abea6_3367_11e9_ba5b_0a1275185e2erow3_col1\" class=\"data row3 col1\" >0.84</td> \n",
       "        <td id=\"T_aa6abea6_3367_11e9_ba5b_0a1275185e2erow3_col2\" class=\"data row3 col2\" >0.9</td> \n",
       "        <td id=\"T_aa6abea6_3367_11e9_ba5b_0a1275185e2erow3_col3\" class=\"data row3 col3\" >1.0</td> \n",
       "        <td id=\"T_aa6abea6_3367_11e9_ba5b_0a1275185e2erow3_col4\" class=\"data row3 col4\" >0.86</td> \n",
       "        <td id=\"T_aa6abea6_3367_11e9_ba5b_0a1275185e2erow3_col5\" class=\"data row3 col5\" >-0.69</td> \n",
       "    </tr>    <tr> \n",
       "        <th id=\"T_aa6abea6_3367_11e9_ba5b_0a1275185e2elevel0_row4\" class=\"row_heading level0 row4\" >weight</th> \n",
       "        <td id=\"T_aa6abea6_3367_11e9_ba5b_0a1275185e2erow4_col0\" class=\"data row4 col0\" >-0.83</td> \n",
       "        <td id=\"T_aa6abea6_3367_11e9_ba5b_0a1275185e2erow4_col1\" class=\"data row4 col1\" >0.9</td> \n",
       "        <td id=\"T_aa6abea6_3367_11e9_ba5b_0a1275185e2erow4_col2\" class=\"data row4 col2\" >0.93</td> \n",
       "        <td id=\"T_aa6abea6_3367_11e9_ba5b_0a1275185e2erow4_col3\" class=\"data row4 col3\" >0.86</td> \n",
       "        <td id=\"T_aa6abea6_3367_11e9_ba5b_0a1275185e2erow4_col4\" class=\"data row4 col4\" >1.0</td> \n",
       "        <td id=\"T_aa6abea6_3367_11e9_ba5b_0a1275185e2erow4_col5\" class=\"data row4 col5\" >-0.42</td> \n",
       "    </tr>    <tr> \n",
       "        <th id=\"T_aa6abea6_3367_11e9_ba5b_0a1275185e2elevel0_row5\" class=\"row_heading level0 row5\" >acceleration</th> \n",
       "        <td id=\"T_aa6abea6_3367_11e9_ba5b_0a1275185e2erow5_col0\" class=\"data row5 col0\" >0.42</td> \n",
       "        <td id=\"T_aa6abea6_3367_11e9_ba5b_0a1275185e2erow5_col1\" class=\"data row5 col1\" >-0.51</td> \n",
       "        <td id=\"T_aa6abea6_3367_11e9_ba5b_0a1275185e2erow5_col2\" class=\"data row5 col2\" >-0.54</td> \n",
       "        <td id=\"T_aa6abea6_3367_11e9_ba5b_0a1275185e2erow5_col3\" class=\"data row5 col3\" >-0.69</td> \n",
       "        <td id=\"T_aa6abea6_3367_11e9_ba5b_0a1275185e2erow5_col4\" class=\"data row5 col4\" >-0.42</td> \n",
       "        <td id=\"T_aa6abea6_3367_11e9_ba5b_0a1275185e2erow5_col5\" class=\"data row5 col5\" >1.0</td> \n",
       "    </tr></tbody> \n",
       "</table> "
      ],
      "text/plain": [
       "<pandas.io.formats.style.Styler at 0x7f780b3d04a8>"
      ]
     },
     "execution_count": 16,
     "metadata": {},
     "output_type": "execute_result"
    }
   ],
   "source": [
    "import matplotlib.pyplot as plt\n",
    "mpg_data.drop(['model_year', 'origin'], axis=1).corr(method='pearson').style.format(\"{:.2}\").background_gradient(cmap=plt.get_cmap('coolwarm'), axis=1)"
   ]
  },
  {
   "cell_type": "markdown",
   "metadata": {},
   "source": [
    "<p> The above table is a combination of blue and red color variations showing the extent of correlation </p>"
   ]
  },
  {
   "cell_type": "markdown",
   "metadata": {},
   "source": [
    "<html> \n",
    "    <body>\n",
    "        <h1> Correlation analysis when all the fields are categorical </h1>\n",
    "        <p>Pearson’s R isn’t defined when the data is categorical</p>\n",
    "        <p>One common option to handle this scenario is by first using one-hot encoding, and break each possible option of each categorical feature to 0-or-1 features. This will then allow the use of correlation, but it can easily become too complex to analyse.</p>\n",
    "        <p>This complexity can easily hinder our ability to get insight from the correlation</p>\n",
    "        <p>What we need is something that will look like correlation, but will work with categorical values — or more formally, we’re looking for a <strong>measure of association</strong> between two categorical features</p>\n",
    "        <p>Here we use <strong>Cramér’s V</strong>. It is based on a nominal variation of <strong>Pearson’s Chi-Square Test</strong>, and comes built-in with some great benefits:</p>\n",
    "        <ol>\n",
    "            <li>Similarly to correlation, the output is in the range of [0,1], where 0 means no association and 1 is full association. (Unlike correlation, there are no negative values, as there’s no such thing as a negative association. Either there is, or there isn’t)</li>\n",
    "            <li>Like correlation, Cramer’s V is symmetrical — it is insensitive to swapping x and y</li>\n",
    "        </ol>\n",
    "          \n",
    "        \n",
    "    </body>\n",
    "</html>"
   ]
  },
  {
   "cell_type": "markdown",
   "metadata": {},
   "source": [
    "<p> First we will understand Pearson’s Chi-Square Test and Cramér’s V then go on to implementation in Python </p>\n",
    "\n",
    "<h3>Pearson’s Chi-Square Test</h3>\n",
    "<p>The chi-square independence test is a procedure for testing if two categorical variables are related in some population.</p>\n",
    "<br>\n",
    "<strong>Chi-Square Test - Null Hypothesis</strong>\n",
    "<p>The null hypothesis for a chi-square independence test is that <strong>two categorical variables are independent in some population.</strong></p>\n",
    "\n",
    "<p> Formula for Chi-square independent test </p>\n",
    "<p>X<sup>2</sup> = (((Observed frequency - expected frequency)<sup>2</sup>) / expected frequency)<p>\n",
    "    \n",
    "<i>expected frequency - frequencies we expect in our sample if the null hypothesis holds.</i>\n",
    "<br><i>Observed frequency - Actual frequencies in the contingency table</i>\n",
    "\n",
    "<h3>Cramér’s V</h3>\n",
    "<p>Cramér’s V is a number between 0 and 1 that indicates how strongly two categorical variables are associated.</p>\n",
    "<p>If we'd like to know if 2 categorical variables are associated, our first option is the chi-square independence test. \n",
    "And then applyong crammer's V formula over the output of chi-square independence test</p><br>\n",
    "<strong>Cramér’s V - Formula</strong>\n",
    "<p>A measure that does indicate the strength of the association is Cramér’s V, defined as</p>\n",
    "\n",
    "<p><strong>ϕ<sub>c</sub> = sqrt(X<sup>2</sup> / N ( k - 1 )</strong></p>\n",
    "<p><i>X<sup>2</sup> is the Pearson chi-square statistic.</i></p>\n",
    "<p><i>ϕ<sub>c</sub>  denotes Cramér’s V.</i></p>\n",
    "<p><i>N is the sample size involved in the test.</i></p>\n",
    "<p><i>k is the lesser number of categories of either variable.</i></p>"
   ]
  },
  {
   "cell_type": "markdown",
   "metadata": {},
   "source": [
    "<p><strong>Now let us look at implementation of crammer's V in Python</strong></p>"
   ]
  },
  {
   "cell_type": "markdown",
   "metadata": {},
   "source": [
    "<p> For this we will be using House Price prediction dataset from Kaggle </p>\n",
    "<p>Let us read the data and see 1st few rows</p>"
   ]
  },
  {
   "cell_type": "code",
   "execution_count": 19,
   "metadata": {},
   "outputs": [
    {
     "data": {
      "text/html": [
       "<div>\n",
       "<style scoped>\n",
       "    .dataframe tbody tr th:only-of-type {\n",
       "        vertical-align: middle;\n",
       "    }\n",
       "\n",
       "    .dataframe tbody tr th {\n",
       "        vertical-align: top;\n",
       "    }\n",
       "\n",
       "    .dataframe thead th {\n",
       "        text-align: right;\n",
       "    }\n",
       "</style>\n",
       "<table border=\"1\" class=\"dataframe\">\n",
       "  <thead>\n",
       "    <tr style=\"text-align: right;\">\n",
       "      <th></th>\n",
       "      <th>Id</th>\n",
       "      <th>MSSubClass</th>\n",
       "      <th>MSZoning</th>\n",
       "      <th>LotFrontage</th>\n",
       "      <th>LotArea</th>\n",
       "      <th>Street</th>\n",
       "      <th>Alley</th>\n",
       "      <th>LotShape</th>\n",
       "      <th>LandContour</th>\n",
       "      <th>Utilities</th>\n",
       "      <th>...</th>\n",
       "      <th>PoolArea</th>\n",
       "      <th>PoolQC</th>\n",
       "      <th>Fence</th>\n",
       "      <th>MiscFeature</th>\n",
       "      <th>MiscVal</th>\n",
       "      <th>MoSold</th>\n",
       "      <th>YrSold</th>\n",
       "      <th>SaleType</th>\n",
       "      <th>SaleCondition</th>\n",
       "      <th>SalePrice</th>\n",
       "    </tr>\n",
       "  </thead>\n",
       "  <tbody>\n",
       "    <tr>\n",
       "      <th>0</th>\n",
       "      <td>1</td>\n",
       "      <td>60</td>\n",
       "      <td>RL</td>\n",
       "      <td>65.0</td>\n",
       "      <td>8450</td>\n",
       "      <td>Pave</td>\n",
       "      <td>NaN</td>\n",
       "      <td>Reg</td>\n",
       "      <td>Lvl</td>\n",
       "      <td>AllPub</td>\n",
       "      <td>...</td>\n",
       "      <td>0</td>\n",
       "      <td>NaN</td>\n",
       "      <td>NaN</td>\n",
       "      <td>NaN</td>\n",
       "      <td>0</td>\n",
       "      <td>2</td>\n",
       "      <td>2008</td>\n",
       "      <td>WD</td>\n",
       "      <td>Normal</td>\n",
       "      <td>208500</td>\n",
       "    </tr>\n",
       "    <tr>\n",
       "      <th>1</th>\n",
       "      <td>2</td>\n",
       "      <td>20</td>\n",
       "      <td>RL</td>\n",
       "      <td>80.0</td>\n",
       "      <td>9600</td>\n",
       "      <td>Pave</td>\n",
       "      <td>NaN</td>\n",
       "      <td>Reg</td>\n",
       "      <td>Lvl</td>\n",
       "      <td>AllPub</td>\n",
       "      <td>...</td>\n",
       "      <td>0</td>\n",
       "      <td>NaN</td>\n",
       "      <td>NaN</td>\n",
       "      <td>NaN</td>\n",
       "      <td>0</td>\n",
       "      <td>5</td>\n",
       "      <td>2007</td>\n",
       "      <td>WD</td>\n",
       "      <td>Normal</td>\n",
       "      <td>181500</td>\n",
       "    </tr>\n",
       "    <tr>\n",
       "      <th>2</th>\n",
       "      <td>3</td>\n",
       "      <td>60</td>\n",
       "      <td>RL</td>\n",
       "      <td>68.0</td>\n",
       "      <td>11250</td>\n",
       "      <td>Pave</td>\n",
       "      <td>NaN</td>\n",
       "      <td>IR1</td>\n",
       "      <td>Lvl</td>\n",
       "      <td>AllPub</td>\n",
       "      <td>...</td>\n",
       "      <td>0</td>\n",
       "      <td>NaN</td>\n",
       "      <td>NaN</td>\n",
       "      <td>NaN</td>\n",
       "      <td>0</td>\n",
       "      <td>9</td>\n",
       "      <td>2008</td>\n",
       "      <td>WD</td>\n",
       "      <td>Normal</td>\n",
       "      <td>223500</td>\n",
       "    </tr>\n",
       "    <tr>\n",
       "      <th>3</th>\n",
       "      <td>4</td>\n",
       "      <td>70</td>\n",
       "      <td>RL</td>\n",
       "      <td>60.0</td>\n",
       "      <td>9550</td>\n",
       "      <td>Pave</td>\n",
       "      <td>NaN</td>\n",
       "      <td>IR1</td>\n",
       "      <td>Lvl</td>\n",
       "      <td>AllPub</td>\n",
       "      <td>...</td>\n",
       "      <td>0</td>\n",
       "      <td>NaN</td>\n",
       "      <td>NaN</td>\n",
       "      <td>NaN</td>\n",
       "      <td>0</td>\n",
       "      <td>2</td>\n",
       "      <td>2006</td>\n",
       "      <td>WD</td>\n",
       "      <td>Abnorml</td>\n",
       "      <td>140000</td>\n",
       "    </tr>\n",
       "    <tr>\n",
       "      <th>4</th>\n",
       "      <td>5</td>\n",
       "      <td>60</td>\n",
       "      <td>RL</td>\n",
       "      <td>84.0</td>\n",
       "      <td>14260</td>\n",
       "      <td>Pave</td>\n",
       "      <td>NaN</td>\n",
       "      <td>IR1</td>\n",
       "      <td>Lvl</td>\n",
       "      <td>AllPub</td>\n",
       "      <td>...</td>\n",
       "      <td>0</td>\n",
       "      <td>NaN</td>\n",
       "      <td>NaN</td>\n",
       "      <td>NaN</td>\n",
       "      <td>0</td>\n",
       "      <td>12</td>\n",
       "      <td>2008</td>\n",
       "      <td>WD</td>\n",
       "      <td>Normal</td>\n",
       "      <td>250000</td>\n",
       "    </tr>\n",
       "  </tbody>\n",
       "</table>\n",
       "<p>5 rows × 81 columns</p>\n",
       "</div>"
      ],
      "text/plain": [
       "   Id  MSSubClass MSZoning  LotFrontage  LotArea Street Alley LotShape  \\\n",
       "0   1          60       RL         65.0     8450   Pave   NaN      Reg   \n",
       "1   2          20       RL         80.0     9600   Pave   NaN      Reg   \n",
       "2   3          60       RL         68.0    11250   Pave   NaN      IR1   \n",
       "3   4          70       RL         60.0     9550   Pave   NaN      IR1   \n",
       "4   5          60       RL         84.0    14260   Pave   NaN      IR1   \n",
       "\n",
       "  LandContour Utilities    ...     PoolArea PoolQC Fence MiscFeature MiscVal  \\\n",
       "0         Lvl    AllPub    ...            0    NaN   NaN         NaN       0   \n",
       "1         Lvl    AllPub    ...            0    NaN   NaN         NaN       0   \n",
       "2         Lvl    AllPub    ...            0    NaN   NaN         NaN       0   \n",
       "3         Lvl    AllPub    ...            0    NaN   NaN         NaN       0   \n",
       "4         Lvl    AllPub    ...            0    NaN   NaN         NaN       0   \n",
       "\n",
       "  MoSold YrSold  SaleType  SaleCondition  SalePrice  \n",
       "0      2   2008        WD         Normal     208500  \n",
       "1      5   2007        WD         Normal     181500  \n",
       "2      9   2008        WD         Normal     223500  \n",
       "3      2   2006        WD        Abnorml     140000  \n",
       "4     12   2008        WD         Normal     250000  \n",
       "\n",
       "[5 rows x 81 columns]"
      ]
     },
     "execution_count": 19,
     "metadata": {},
     "output_type": "execute_result"
    }
   ],
   "source": [
    "data_set = pd.read_csv(\"kaggle_house_price/train.csv\")\n",
    "data_set.head()"
   ]
  },
  {
   "cell_type": "code",
   "execution_count": 21,
   "metadata": {},
   "outputs": [
    {
     "data": {
      "text/plain": [
       "(1460, 81)"
      ]
     },
     "execution_count": 21,
     "metadata": {},
     "output_type": "execute_result"
    }
   ],
   "source": [
    "data_set.shape"
   ]
  },
  {
   "cell_type": "markdown",
   "metadata": {},
   "source": [
    "<p>The dataset has 1460 rows and 81 columns. The columns are different variables which can affect the price of house.</p>\n",
    "<p>For demonstration we will use MSZoning and LotShape fields from the dataset. We could have used any other categorical fields also.<br>\n",
    "MSZoning: The general zoning classification.<br>\n",
    "LotShape: General shape of property.</p>"
   ]
  },
  {
   "cell_type": "code",
   "execution_count": 23,
   "metadata": {},
   "outputs": [],
   "source": [
    "MSZoning = data_set[\"MSZoning\"]      #Reading MSZoning column into MSZoning variable\n",
    "LotShape = data_set[\"LotShape\"]      #Reading LotShape column into LotShape variable"
   ]
  },
  {
   "cell_type": "code",
   "execution_count": 24,
   "metadata": {},
   "outputs": [
    {
     "data": {
      "text/plain": [
       "RL         1151\n",
       "RM          218\n",
       "FV           65\n",
       "RH           16\n",
       "C (all)      10\n",
       "Name: MSZoning, dtype: int64"
      ]
     },
     "execution_count": 24,
     "metadata": {},
     "output_type": "execute_result"
    }
   ],
   "source": [
    "MSZoning.value_counts()"
   ]
  },
  {
   "cell_type": "code",
   "execution_count": 25,
   "metadata": {},
   "outputs": [
    {
     "data": {
      "text/plain": [
       "Reg    925\n",
       "IR1    484\n",
       "IR2     41\n",
       "IR3     10\n",
       "Name: LotShape, dtype: int64"
      ]
     },
     "execution_count": 25,
     "metadata": {},
     "output_type": "execute_result"
    }
   ],
   "source": [
    "LotShape.value_counts()"
   ]
  },
  {
   "cell_type": "markdown",
   "metadata": {},
   "source": [
    "<p>From the above two commands we can see that MSZoning has 5 unique values (RL, RM, FV, RH, C(all)). <br>Whereas LotShape has 4 unique values (Reg, IR1, IR2, IR3) </p>"
   ]
  },
  {
   "cell_type": "code",
   "execution_count": 29,
   "metadata": {},
   "outputs": [],
   "source": [
    "#importing scipy.stats\n",
    "import scipy.stats as ss\n",
    "import numpy as np"
   ]
  },
  {
   "cell_type": "code",
   "execution_count": 32,
   "metadata": {},
   "outputs": [],
   "source": [
    "#crammers V modified version\n",
    "\n",
    "#this function is a variation of the actual crammer's v function\n",
    "#Cramér's V can be a heavily biased estimator of its population counterpart and will tend to overestimate \n",
    "#the strength of association. A bias correction, using the above notation is used.\n",
    "\n",
    "def cramers_v(col1, col2):\n",
    "    covariance_matrix = pd.crosstab(col1,col2)        #pd.crosstab(col1,col2) creates a contingency table between col1 and col2\n",
    "    chi2 = ss.chi2_contingency(covariance_matrix)[0]  #it computes the chi-square statistic and p-value for the \n",
    "    n = covariance_matrix.sum().sum()\n",
    "    phi2 = chi2/n\n",
    "    r,k = covariance_matrix.shape\n",
    "    phi2corr = max(0, phi2-((k-1)*(r-1))/(n-1))\n",
    "    rcorr = r-((r-1)**2)/(n-1)\n",
    "    kcorr = k-((k-1)**2)/(n-1)\n",
    "    return np.sqrt(phi2corr/min((kcorr-1),(rcorr-1)))"
   ]
  },
  {
   "cell_type": "code",
   "execution_count": 33,
   "metadata": {},
   "outputs": [
    {
     "data": {
      "text/plain": [
       "0.15219083428138855"
      ]
     },
     "execution_count": 33,
     "metadata": {},
     "output_type": "execute_result"
    }
   ],
   "source": [
    "#calling the above function for the 2 columns\n",
    "cramers_v(MSZoning, LotShape)"
   ]
  },
  {
   "cell_type": "markdown",
   "metadata": {},
   "source": [
    "<p>The output of above function is 0.152 which is quite close to zero. Thus we can say that there is very less association between the two columns. \n",
    "<br>We can use the same method to find out the crammer's V for any 2 columns of our choice.</p>"
   ]
  },
  {
   "cell_type": "markdown",
   "metadata": {},
   "source": [
    "<html> \n",
    "    <body>\n",
    "        <h1> Correlation analysis when the fields are mix of continuous and categorical data</h1>\n",
    "        <p>Similiar to the case of categorical-categorical we can not calculate correlation as corelation in simple terms is if x increase do y increase, decrease or remain same. but in case of categorical variables they don't increase or decrease. For them we calculate Association.</p>\n",
    "        <p>For the mix of continuous and categorical data we can use ANOVA (analysis of variance) to determine the association</p>\n",
    "        <p>Python's scipy.stats module already has a function <strong>f_oneway</strong> which can calculate one way ANOVA.</p>\n",
    "        <p><strong>What is one way ANOVA?</strong></p>\n",
    "        <p>The ANOVA test lets us check whether a numeric response variable varies according to the levels of a categorical variable. We group the continuous variable into groups on the basis of categorical variable and then check if the mean of each group is different or same. And if the mean is different then is it significant enough?</p>\n",
    "        <p>The null hypothesis for one way ANOVA states that <strong>the population means are all equal.</strong></p>\n",
    "    </body>\n",
    "</html>"
   ]
  },
  {
   "cell_type": "markdown",
   "metadata": {},
   "source": [
    "<strong>Now let us look at the Python implementation of one way ANOVA </strong>\n",
    "<p>we will use the House Price prediction dataset from Kaggle that we used in the case of categorical-categorical fields. </p>"
   ]
  },
  {
   "cell_type": "code",
   "execution_count": 40,
   "metadata": {},
   "outputs": [
    {
     "data": {
      "text/html": [
       "<div>\n",
       "<style scoped>\n",
       "    .dataframe tbody tr th:only-of-type {\n",
       "        vertical-align: middle;\n",
       "    }\n",
       "\n",
       "    .dataframe tbody tr th {\n",
       "        vertical-align: top;\n",
       "    }\n",
       "\n",
       "    .dataframe thead th {\n",
       "        text-align: right;\n",
       "    }\n",
       "</style>\n",
       "<table border=\"1\" class=\"dataframe\">\n",
       "  <thead>\n",
       "    <tr style=\"text-align: right;\">\n",
       "      <th></th>\n",
       "      <th>Id</th>\n",
       "      <th>MSSubClass</th>\n",
       "      <th>MSZoning</th>\n",
       "      <th>LotFrontage</th>\n",
       "      <th>LotArea</th>\n",
       "      <th>Street</th>\n",
       "      <th>Alley</th>\n",
       "      <th>LotShape</th>\n",
       "      <th>LandContour</th>\n",
       "      <th>Utilities</th>\n",
       "      <th>...</th>\n",
       "      <th>PoolArea</th>\n",
       "      <th>PoolQC</th>\n",
       "      <th>Fence</th>\n",
       "      <th>MiscFeature</th>\n",
       "      <th>MiscVal</th>\n",
       "      <th>MoSold</th>\n",
       "      <th>YrSold</th>\n",
       "      <th>SaleType</th>\n",
       "      <th>SaleCondition</th>\n",
       "      <th>SalePrice</th>\n",
       "    </tr>\n",
       "  </thead>\n",
       "  <tbody>\n",
       "    <tr>\n",
       "      <th>0</th>\n",
       "      <td>1</td>\n",
       "      <td>60</td>\n",
       "      <td>RL</td>\n",
       "      <td>65.0</td>\n",
       "      <td>8450</td>\n",
       "      <td>Pave</td>\n",
       "      <td>NaN</td>\n",
       "      <td>Reg</td>\n",
       "      <td>Lvl</td>\n",
       "      <td>AllPub</td>\n",
       "      <td>...</td>\n",
       "      <td>0</td>\n",
       "      <td>NaN</td>\n",
       "      <td>NaN</td>\n",
       "      <td>NaN</td>\n",
       "      <td>0</td>\n",
       "      <td>2</td>\n",
       "      <td>2008</td>\n",
       "      <td>WD</td>\n",
       "      <td>Normal</td>\n",
       "      <td>208500</td>\n",
       "    </tr>\n",
       "    <tr>\n",
       "      <th>1</th>\n",
       "      <td>2</td>\n",
       "      <td>20</td>\n",
       "      <td>RL</td>\n",
       "      <td>80.0</td>\n",
       "      <td>9600</td>\n",
       "      <td>Pave</td>\n",
       "      <td>NaN</td>\n",
       "      <td>Reg</td>\n",
       "      <td>Lvl</td>\n",
       "      <td>AllPub</td>\n",
       "      <td>...</td>\n",
       "      <td>0</td>\n",
       "      <td>NaN</td>\n",
       "      <td>NaN</td>\n",
       "      <td>NaN</td>\n",
       "      <td>0</td>\n",
       "      <td>5</td>\n",
       "      <td>2007</td>\n",
       "      <td>WD</td>\n",
       "      <td>Normal</td>\n",
       "      <td>181500</td>\n",
       "    </tr>\n",
       "    <tr>\n",
       "      <th>2</th>\n",
       "      <td>3</td>\n",
       "      <td>60</td>\n",
       "      <td>RL</td>\n",
       "      <td>68.0</td>\n",
       "      <td>11250</td>\n",
       "      <td>Pave</td>\n",
       "      <td>NaN</td>\n",
       "      <td>IR1</td>\n",
       "      <td>Lvl</td>\n",
       "      <td>AllPub</td>\n",
       "      <td>...</td>\n",
       "      <td>0</td>\n",
       "      <td>NaN</td>\n",
       "      <td>NaN</td>\n",
       "      <td>NaN</td>\n",
       "      <td>0</td>\n",
       "      <td>9</td>\n",
       "      <td>2008</td>\n",
       "      <td>WD</td>\n",
       "      <td>Normal</td>\n",
       "      <td>223500</td>\n",
       "    </tr>\n",
       "    <tr>\n",
       "      <th>3</th>\n",
       "      <td>4</td>\n",
       "      <td>70</td>\n",
       "      <td>RL</td>\n",
       "      <td>60.0</td>\n",
       "      <td>9550</td>\n",
       "      <td>Pave</td>\n",
       "      <td>NaN</td>\n",
       "      <td>IR1</td>\n",
       "      <td>Lvl</td>\n",
       "      <td>AllPub</td>\n",
       "      <td>...</td>\n",
       "      <td>0</td>\n",
       "      <td>NaN</td>\n",
       "      <td>NaN</td>\n",
       "      <td>NaN</td>\n",
       "      <td>0</td>\n",
       "      <td>2</td>\n",
       "      <td>2006</td>\n",
       "      <td>WD</td>\n",
       "      <td>Abnorml</td>\n",
       "      <td>140000</td>\n",
       "    </tr>\n",
       "    <tr>\n",
       "      <th>4</th>\n",
       "      <td>5</td>\n",
       "      <td>60</td>\n",
       "      <td>RL</td>\n",
       "      <td>84.0</td>\n",
       "      <td>14260</td>\n",
       "      <td>Pave</td>\n",
       "      <td>NaN</td>\n",
       "      <td>IR1</td>\n",
       "      <td>Lvl</td>\n",
       "      <td>AllPub</td>\n",
       "      <td>...</td>\n",
       "      <td>0</td>\n",
       "      <td>NaN</td>\n",
       "      <td>NaN</td>\n",
       "      <td>NaN</td>\n",
       "      <td>0</td>\n",
       "      <td>12</td>\n",
       "      <td>2008</td>\n",
       "      <td>WD</td>\n",
       "      <td>Normal</td>\n",
       "      <td>250000</td>\n",
       "    </tr>\n",
       "  </tbody>\n",
       "</table>\n",
       "<p>5 rows × 81 columns</p>\n",
       "</div>"
      ],
      "text/plain": [
       "   Id  MSSubClass MSZoning  LotFrontage  LotArea Street Alley LotShape  \\\n",
       "0   1          60       RL         65.0     8450   Pave   NaN      Reg   \n",
       "1   2          20       RL         80.0     9600   Pave   NaN      Reg   \n",
       "2   3          60       RL         68.0    11250   Pave   NaN      IR1   \n",
       "3   4          70       RL         60.0     9550   Pave   NaN      IR1   \n",
       "4   5          60       RL         84.0    14260   Pave   NaN      IR1   \n",
       "\n",
       "  LandContour Utilities    ...     PoolArea PoolQC Fence MiscFeature MiscVal  \\\n",
       "0         Lvl    AllPub    ...            0    NaN   NaN         NaN       0   \n",
       "1         Lvl    AllPub    ...            0    NaN   NaN         NaN       0   \n",
       "2         Lvl    AllPub    ...            0    NaN   NaN         NaN       0   \n",
       "3         Lvl    AllPub    ...            0    NaN   NaN         NaN       0   \n",
       "4         Lvl    AllPub    ...            0    NaN   NaN         NaN       0   \n",
       "\n",
       "  MoSold YrSold  SaleType  SaleCondition  SalePrice  \n",
       "0      2   2008        WD         Normal     208500  \n",
       "1      5   2007        WD         Normal     181500  \n",
       "2      9   2008        WD         Normal     223500  \n",
       "3      2   2006        WD        Abnorml     140000  \n",
       "4     12   2008        WD         Normal     250000  \n",
       "\n",
       "[5 rows x 81 columns]"
      ]
     },
     "execution_count": 40,
     "metadata": {},
     "output_type": "execute_result"
    }
   ],
   "source": [
    "data_set.head()"
   ]
  },
  {
   "cell_type": "code",
   "execution_count": 44,
   "metadata": {},
   "outputs": [
    {
     "data": {
      "text/plain": [
       "RL         1151\n",
       "RM          218\n",
       "FV           65\n",
       "RH           16\n",
       "C (all)      10\n",
       "Name: MSZoning, dtype: int64"
      ]
     },
     "execution_count": 44,
     "metadata": {},
     "output_type": "execute_result"
    }
   ],
   "source": [
    "data_set.MSZoning.value_counts()"
   ]
  },
  {
   "cell_type": "code",
   "execution_count": 43,
   "metadata": {},
   "outputs": [],
   "source": [
    "#importing scipy.stats\n",
    "import scipy.stats as ss"
   ]
  },
  {
   "cell_type": "code",
   "execution_count": 47,
   "metadata": {},
   "outputs": [
    {
     "data": {
      "text/plain": [
       "F_onewayResult(statistic=43.84028167245718, pvalue=8.817633866272648e-35)"
      ]
     },
     "execution_count": 47,
     "metadata": {},
     "output_type": "execute_result"
    }
   ],
   "source": [
    "#The ANOVA test lets us check whether a numeric response variable varies according to the levels of a categorical variable.\n",
    "\n",
    "#here we group the continuous variable based on the categorical variable and then check for the mean.\n",
    "\n",
    "#Grouping based on MSZoning (categorical field)\n",
    "groups = data_set.groupby(\"MSZoning\").groups\n",
    "\n",
    "\n",
    "#uniqueZones = data_set[\"MSZoning\"].unique()    #extracting all the unique values\n",
    "SalePrice = data_set[\"SalePrice\"]              #extracting saleprice column from dataset into SalePrice variable\n",
    "MSZoning = data_set[\"MSZoning\"]                #extracting MSZoning column from dataset into MSZoning variable\n",
    "\n",
    "#Dividing the SalePrice column into separate groups based on the corresponding values of MSZoning\n",
    "RL = SalePrice[groups[\"RL\"]]\n",
    "RM = SalePrice[groups[\"RM\"]]\n",
    "FV = SalePrice[groups[\"FV\"]]\n",
    "RH = SalePrice[groups[\"RH\"]]\n",
    "C_all = SalePrice[groups[\"C (all)\"]]\n",
    "\n",
    "\n",
    "# Perform the ANOVA\n",
    "ss.f_oneway(RL, RM, FV, RH, C_all)\n"
   ]
  },
  {
   "cell_type": "markdown",
   "metadata": {},
   "source": [
    "<p><strong> Interpreting the results</strong></p>\n",
    "<p>To determine whether any of the differences between the means are statistically significant we compare the p-value to our significance level to assess the null hypothesis. Usually, a significance level (denoted as α or alpha) of 0.05 works well. A significance level of 0.05 indicates a 5% risk of concluding that a difference exists when there is no actual difference.</p>\n",
    "<ul>\n",
    "    <li>\n",
    "        <strong>P-value ≤ α: The differences between some of the means are statistically significant</strong>\n",
    "        <ul>\n",
    "            <li>If the p-value is less than or equal to the significance level, we reject the null hypothesis and conclude                   that not all of population means are equal.\n",
    "            </li>\n",
    "        </ul><br>\n",
    "    </li>\n",
    "    <li>\n",
    "        <strong>P-value > α: The differences between the means are not statistically significant</strong>\n",
    "        <ul>\n",
    "            <li>If the p-value is greater than the significance level, you do not have enough evidence to reject the null                   hypothesis that the population means are all equal.\n",
    "            </li>\n",
    "        </ul>\n",
    "    </li>\n",
    "</ul>"
   ]
  },
  {
   "cell_type": "markdown",
   "metadata": {},
   "source": [
    "<p>The p-value gives the combined result and do not tell which groups did differed and impacted to give a postitive result for ANOVA test. To check which groups differed, we perform a follow up test or \"post-hoc test\". one such test is <strong>Tukey's test</strong>. we can carry out Tukey's test using the pairwise_tukeyhsd() function in the statsmodels.stats.multicomp library."
   ]
  },
  {
   "cell_type": "code",
   "execution_count": 54,
   "metadata": {},
   "outputs": [
    {
     "data": {
      "text/html": [
       "<table class=\"simpletable\">\n",
       "<caption>Multiple Comparison of Means - Tukey HSD,FWER=0.05</caption>\n",
       "<tr>\n",
       "  <th>group1</th>  <th>group2</th>  <th>meandiff</th>       <th>lower</th>       <th>upper</th>    <th>reject</th>\n",
       "</tr>\n",
       "<tr>\n",
       "  <td>C (all)</td>   <td>FV</td>   <td>139486.0615</td>  <td>69764.8601</td>  <td>209207.2629</td>  <td>True</td> \n",
       "</tr>\n",
       "<tr>\n",
       "  <td>C (all)</td>   <td>RH</td>    <td>57030.375</td>   <td>-25710.0203</td> <td>139770.7703</td>  <td>False</td>\n",
       "</tr>\n",
       "<tr>\n",
       "  <td>C (all)</td>   <td>RL</td>   <td>116476.9948</td>  <td>51288.7396</td>  <td>181665.2499</td>  <td>True</td> \n",
       "</tr>\n",
       "<tr>\n",
       "  <td>C (all)</td>   <td>RM</td>   <td>51788.8303</td>   <td>-14590.075</td>  <td>118167.7355</td>  <td>False</td>\n",
       "</tr>\n",
       "<tr>\n",
       "    <td>FV</td>      <td>RH</td>   <td>-82455.6865</td> <td>-139737.4987</td> <td>-25173.8744</td>  <td>True</td> \n",
       "</tr>\n",
       "<tr>\n",
       "    <td>FV</td>      <td>RL</td>   <td>-23009.0668</td>  <td>-49176.6344</td>  <td>3158.5009</td>   <td>False</td>\n",
       "</tr>\n",
       "<tr>\n",
       "    <td>FV</td>      <td>RM</td>   <td>-87697.2313</td> <td>-116703.9899</td> <td>-58690.4726</td>  <td>True</td> \n",
       "</tr>\n",
       "<tr>\n",
       "    <td>RH</td>      <td>RL</td>   <td>59446.6198</td>    <td>7777.7831</td>  <td>111115.4565</td>  <td>True</td> \n",
       "</tr>\n",
       "<tr>\n",
       "    <td>RH</td>      <td>RM</td>   <td>-5241.5447</td>   <td>-58404.6817</td> <td>47921.5923</td>   <td>False</td>\n",
       "</tr>\n",
       "<tr>\n",
       "    <td>RL</td>      <td>RM</td>   <td>-64688.1645</td>  <td>-79849.1253</td> <td>-49527.2037</td>  <td>True</td> \n",
       "</tr>\n",
       "</table>"
      ],
      "text/plain": [
       "<class 'statsmodels.iolib.table.SimpleTable'>"
      ]
     },
     "execution_count": 54,
     "metadata": {},
     "output_type": "execute_result"
    },
    {
     "data": {
      "image/png": "[encoded data removed]",
      "text/plain": [
       "<Figure size 720x432 with 1 Axes>"
      ]
     },
     "metadata": {},
     "output_type": "display_data"
    }
   ],
   "source": [
    "#post hoc test to see which groups differ\n",
    "\n",
    "from statsmodels.stats.multicomp import pairwise_tukeyhsd\n",
    "import matplotlib.pyplot as plt\n",
    "\n",
    "tukey = pairwise_tukeyhsd(endog=SalePrice,     # continous field\n",
    "                          groups=MSZoning,     # categorical field \n",
    "                          alpha=0.05)          # Significance level\n",
    "\n",
    "\n",
    "\n",
    "tukey.plot_simultaneous() \n",
    "\n",
    "tukey.summary()              # See test summary\n",
    "\n",
    "\n",
    "#The Tukey HSD post-hoc comparison test controls for type I error and maintains the \n",
    "#familywise error rate at 0.05 (FWER= 0.05 top of the table). The group1 and group2 columns \n",
    "#are the groups being compared, the meandiff column is the difference in means of the two groups \n",
    "#being calculated as group2 – group1, the lower/upper columns are the lower/upper boundaries of the 95% confidence interval, \n",
    "#and the reject column states whether or not the null hypothesis should be rejected."
   ]
  },
  {
   "cell_type": "markdown",
   "metadata": {},
   "source": [
    "<p>The output of the Tukey test shows the average difference, a confidence interval as well as whether you should reject the null hypothesis for each pair of groups at the given significance level.</p>\n",
    "<p>In this case, the test suggests we should reject the null hypothesis for 6 pairs.</p>\n",
    "<p>From the plot and the table we can infer that the pair which has no overlapping results into the hypothesis being rejected.</p>"
   ]
  },
  {
   "cell_type": "markdown",
   "metadata": {},
   "source": [
    "<h2>References:</h2>\n",
    "\n",
    "<p>brief about all correlation techniques</p>\n",
    "<ul>\n",
    "        <li>https://medium.com/@outside2SDs/an-overview-of-correlation-measures-between-categorical-and-continuous-variables-4c7f85610365</li>\n",
    "    <li>https://www.datascience.com/blog/introduction-to-correlation-learn-data-science-tutorials</li>\n",
    "</ul>\n",
    "\n",
    "<p>for coninuous and continous fields</p>\n",
    "<ul>\n",
    "    <li>https://www.datascience.com/learn-data-science/fundamentals/introduction-to-correlation-python-data-science</li>\n",
    "    <li>https://pythonfordatascience.org/correlation-python/</li>\n",
    "</ul>\n",
    "\n",
    "<p>for categorical and categorical fields</p>\n",
    "<ul>\n",
    "    <li>https://datascience.stackexchange.com/questions/893/how-to-get-correlation-between-two-categorical-variable-and-a-categorical-variab</li>\n",
    "    <li>https://towardsdatascience.com/the-search-for-categorical-correlation-a1cf7f1888c9</li>\n",
    "    <li>https://www.spss-tutorials.com/chi-square-independence-test/</li>\n",
    "    <li>https://www.spss-tutorials.com/cramers-v-what-and-why/</li>\n",
    "    <li>https://en.wikipedia.org/wiki/Cram%C3%A9r%27s_V</li>\n",
    "</ul>\n",
    "\n",
    "\n",
    "<p>for categorical and continuous fields</p>\n",
    "<ul>\n",
    "    <li>https://statistics.laerd.com/spss-tutorials/point-biserial-correlation-using-spss-statistics.php</li>\n",
    "    <li>https://stats.stackexchange.com/questions/119835/correlation-between-a-nominal-iv-and-a-continuous-dv-variable</li>\n",
    "  <li>https://www.researchgate.net/post/Which_test_do_I_use_to_estimate_the_correlation_between_an_independent_categorical_variable_and_a_dependent_continuous_variable</li>\n",
    "<li>http://hamelg.blogspot.com/2015/11/python-for-data-analysis-part-16_23.html</li>\n",
    "<li>https://support.minitab.com/en-us/minitab-express/1/help-and-how-to/modeling-statistics/anova/how-to/one-way-anova/interpret-the-results/key-results/</li>\n",
    "</ul>\n"
   ]
  }
 ],
 "metadata": {
  "celltoolbar": "Raw Cell Format",
  "kernelspec": {
   "display_name": "Python 3",
   "language": "python",
   "name": "python3"
  },
  "language_info": {
   "codemirror_mode": {
    "name": "ipython",
    "version": 3
   },
   "file_extension": ".py",
   "mimetype": "text/x-python",
   "name": "python",
   "nbconvert_exporter": "python",
   "pygments_lexer": "ipython3",
   "version": "3.6.5"
  }
 },
 "nbformat": 4,
 "nbformat_minor": 2
}
